{
 "cells": [
  {
   "cell_type": "code",
   "execution_count": 12,
   "metadata": {},
   "outputs": [],
   "source": [
    "import ecc\n",
    "import util\n",
    "import hashlib\n",
    "from os import urandom\n",
    "from binascii import hexlify\n",
    "import bitcoin"
   ]
  },
  {
   "cell_type": "code",
   "execution_count": 3,
   "metadata": {},
   "outputs": [
    {
     "name": "stdout",
     "output_type": "stream",
     "text": [
      "b'5552748b5aeb500f57b3d1f4a56e4e9789198918c663e712314ea999026eb896'\n"
     ]
    }
   ],
   "source": [
    "# A commitment is a piece of information that bind me to some value without revealing it\n",
    "# It is usually done with a one way function, or hash\n",
    "commitment = hashlib.sha256(bytes(78)).digest()\n",
    "print(hexlify(commitment))"
   ]
  },
  {
   "cell_type": "code",
   "execution_count": 4,
   "metadata": {},
   "outputs": [
    {
     "name": "stdout",
     "output_type": "stream",
     "text": [
      "78\n"
     ]
    }
   ],
   "source": [
    "# Now I can give the commitment to someone else and if I reveal the message later he can hash it again\n",
    "# and verify that the hash is the same, meaning that I didn't change my mind\n",
    "\n",
    "# But there's an issue with this naive commitment: if I know that the commited value is in a limited set,\n",
    "# I can hash all the possible value until I find the right one.\n",
    "\n",
    "# For example, if I know that the commitment is an int between 0 and 100, it is very easy to find \n",
    "for i in range(0, 200):\n",
    "    if hashlib.sha256(bytes(i)).digest() == commitment:\n",
    "        print(i)"
   ]
  },
  {
   "cell_type": "code",
   "execution_count": 5,
   "metadata": {},
   "outputs": [
    {
     "name": "stdout",
     "output_type": "stream",
     "text": [
      "b'9dd8499cdf53b0c88e9952097aec2bc7f3786c78861fbcc62f05ed9cb8dedca2'\n"
     ]
    }
   ],
   "source": [
    "# To avoid that problem, I can add another piece of random bytes to the value commited, so that you can't \n",
    "# easily find out but still verify if I give you the random bytes later\n",
    "commitment = hashlib.sha256(bytes(2) + b'coucou').digest()\n",
    "print(hexlify(commitment))"
   ]
  },
  {
   "cell_type": "code",
   "execution_count": 6,
   "metadata": {},
   "outputs": [
    {
     "name": "stdout",
     "output_type": "stream",
     "text": [
      "4\n"
     ]
    }
   ],
   "source": [
    "# This kind of commitment is not homomorphic, meaning that H(A) + H(B) != H(A+B)\n",
    "# We can use modular arithmetic to achieve this.\n",
    "# In this very simple example, I provide a commitment that have been computed with a generator g to the power \n",
    "# of the value I need to commit\n",
    "# This is secured by the discrete log problem, meaning that given C, g, and N it is hard to find m\n",
    "# Of course we need to use much larger values to be secure\n",
    "N = 7\n",
    "g = 3 # 3 is a generator for the group of integers mod N\n",
    "m = 100\n",
    "C = g**m % N\n",
    "print(C)"
   ]
  },
  {
   "cell_type": "code",
   "execution_count": 7,
   "metadata": {},
   "outputs": [
    {
     "name": "stdout",
     "output_type": "stream",
     "text": [
      "2576887603660056655182305648828106363510537610005\n"
     ]
    }
   ],
   "source": [
    "# Now we have the same semantic security problem, meaning that the same m would always produce the same commitment\n",
    "# We solve this by adding a second generator, h, to the power of some random value, and multiply our commitment\n",
    "h = 5 # h is public\n",
    "r = int.from_bytes(urandom(1), 'little') % N # r is secret and revealed only when I open the commitment\n",
    "C = (g**m * h**r)\n",
    "print(C)"
   ]
  },
  {
   "cell_type": "code",
   "execution_count": 11,
   "metadata": {},
   "outputs": [],
   "source": [
    "# Now the interesting part: we can use the homomorphism of Pedersen Commitment to create commitments that can add up\n",
    "# For example, imagine that Alice first commit to some value A\n",
    "A = 23\n",
    "r_A = int.from_bytes(urandom(1), 'little') % N\n",
    "C_A = (g**A * h**r_A)\n",
    "\n",
    "# She sends this first commitment to Bob, and some time later commit to another value B\n",
    "B = 32\n",
    "r_B = int.from_bytes(urandom(1), 'little') % N\n",
    "C_B = (g**B * h**r_B)\n",
    "\n",
    "# Bob now has 2 commitments to some values, and also a commitment to the sum of A and B\n",
    "C_AB = C_A * C_B\n",
    "assert C_AB == g**(A+B) * h**(r_A+r_B)\n",
    "\n",
    "# Bob can now verify that this third commitment is really a commitment to the sum of A and B\n",
    "# without ever knowing any value commited\n",
    "\n",
    "# Another interesting consequence is that I can verify that the sum of some values is equal to some other\n",
    "# This obviously will help when we need to prove that no bitcoins were created in a transaction\n",
    "C = 40\n",
    "r_C = int.from_bytes(urandom(1), 'little') % N\n",
    "C_C = (g**C * h**r_C)\n",
    "\n",
    "D = 15\n",
    "r_D = r_A + r_B - r_C\n",
    "C_D = (g**D * h**r_D)\n",
    "\n",
    "C_CD = C_C * C_D\n",
    "assert C_AB - C_CD == 0"
   ]
  },
  {
   "cell_type": "code",
   "execution_count": 10,
   "metadata": {},
   "outputs": [],
   "source": [
    "# Another interesting property is that the commitment to the sum would work even with different A and B\n",
    "# as long as A' + B' = AB\n",
    "C_AB_prime = g**((A-3)+(B+3)) * h**(r_A+r_B)\n",
    "assert C_AB == C_AB_prime\n",
    "\n",
    "# And the same with the random value\n",
    "C_AB_prime = g**((A)+(B)) * h**((r_A-2)+(r_B+2))\n",
    "assert C_AB == C_AB_prime"
   ]
  },
  {
   "cell_type": "code",
   "execution_count": 14,
   "metadata": {},
   "outputs": [
    {
     "name": "stdout",
     "output_type": "stream",
     "text": [
      "S256Point(27d615cd7789eac376bf4875f0c22e64839b38408eebfb01964cc47fc959c9b1, bcf2ee4a5e1749df08203337c12619a77871cda46679e8f99e26ee7919c165c6)\n"
     ]
    }
   ],
   "source": [
    "# We can produce the same commitment with ECC\n",
    "G = ecc.G # we use the generator used in Bitcoin\n",
    "m = int.from_bytes(b'This is a commitment to some value', 'little')\n",
    "C_A = m * G\n",
    "print(C_A)"
   ]
  },
  {
   "cell_type": "code",
   "execution_count": 15,
   "metadata": {},
   "outputs": [
    {
     "ename": "ValueError",
     "evalue": "invalid literal for int() with base 16: b'P\\x92\\x9bt\\xc1\\xa0IT\\xb7\\x8bK`5\\xe9z^\\x07\\x8aZ\\x0f(\\xec\\x96\\xd5G\\xbf\\xee\\x9a\\xce\\x80:\\xc0'",
     "output_type": "error",
     "traceback": [
      "\u001b[0;31m---------------------------------------------------------------------------\u001b[0m",
      "\u001b[0;31mValueError\u001b[0m                                Traceback (most recent call last)",
      "\u001b[0;32m<ipython-input-15-60ab4321c33a>\u001b[0m in \u001b[0;36m<module>\u001b[0;34m\u001b[0m\n\u001b[1;32m      3\u001b[0m \u001b[0mto_hash\u001b[0m \u001b[0;34m=\u001b[0m \u001b[0mG\u001b[0m\u001b[0;34m.\u001b[0m\u001b[0msec\u001b[0m\u001b[0;34m(\u001b[0m\u001b[0;32mFalse\u001b[0m\u001b[0;34m)\u001b[0m\u001b[0;34m\u001b[0m\u001b[0;34m\u001b[0m\u001b[0m\n\u001b[1;32m      4\u001b[0m \u001b[0mH_x\u001b[0m \u001b[0;34m=\u001b[0m \u001b[0mhashlib\u001b[0m\u001b[0;34m.\u001b[0m\u001b[0msha256\u001b[0m\u001b[0;34m(\u001b[0m\u001b[0mto_hash\u001b[0m\u001b[0;34m)\u001b[0m\u001b[0;34m.\u001b[0m\u001b[0mdigest\u001b[0m\u001b[0;34m(\u001b[0m\u001b[0;34m)\u001b[0m\u001b[0;34m\u001b[0m\u001b[0;34m\u001b[0m\u001b[0m\n\u001b[0;32m----> 5\u001b[0;31m \u001b[0mH_x\u001b[0m \u001b[0;34m=\u001b[0m \u001b[0mint\u001b[0m\u001b[0;34m(\u001b[0m\u001b[0mH_x\u001b[0m\u001b[0;34m,\u001b[0m \u001b[0;36m16\u001b[0m\u001b[0;34m)\u001b[0m\u001b[0;34m\u001b[0m\u001b[0;34m\u001b[0m\u001b[0m\n\u001b[0m\u001b[1;32m      6\u001b[0m \u001b[0;34m\u001b[0m\u001b[0m\n\u001b[1;32m      7\u001b[0m \u001b[0;31m# We then need to find the y coordinate\u001b[0m\u001b[0;34m\u001b[0m\u001b[0;34m\u001b[0m\u001b[0;34m\u001b[0m\u001b[0m\n",
      "\u001b[0;31mValueError\u001b[0m: invalid literal for int() with base 16: b'P\\x92\\x9bt\\xc1\\xa0IT\\xb7\\x8bK`5\\xe9z^\\x07\\x8aZ\\x0f(\\xec\\x96\\xd5G\\xbf\\xee\\x9a\\xce\\x80:\\xc0'"
     ]
    }
   ],
   "source": [
    "# We still need to find another generator point H\n",
    "# in CT, they chosed to hash the x coordinate of G\n",
    "to_hash = G.sec(False)\n",
    "H_x = hashlib.sha256(to_hash).digest()\n",
    "H_x = int(H_x, 16)\n",
    "\n",
    "# We then need to find the y coordinate\n",
    "H_y = pow(int(H_x*H_x*H_x + 7), int((ecc.P+1)//4), int(ecc.P))\n",
    "\n",
    "H = ecc.S256Point(H_x)\n",
    "print(H)"
   ]
  },
  {
   "cell_type": "code",
   "execution_count": null,
   "metadata": {},
   "outputs": [],
   "source": []
  }
 ],
 "metadata": {
  "kernelspec": {
   "display_name": "Python 3",
   "language": "python",
   "name": "python3"
  },
  "language_info": {
   "codemirror_mode": {
    "name": "ipython",
    "version": 3
   },
   "file_extension": ".py",
   "mimetype": "text/x-python",
   "name": "python",
   "nbconvert_exporter": "python",
   "pygments_lexer": "ipython3",
   "version": "3.6.9"
  }
 },
 "nbformat": 4,
 "nbformat_minor": 4
}
