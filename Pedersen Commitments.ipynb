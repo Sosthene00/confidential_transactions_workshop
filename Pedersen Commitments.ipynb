{
 "cells": [
  {
   "cell_type": "code",
   "execution_count": 1,
   "metadata": {},
   "outputs": [],
   "source": [
    "import ecc\n",
    "import util\n",
    "import hashlib\n",
    "from os import urandom\n",
    "from binascii import hexlify\n",
    "import bitcoin"
   ]
  },
  {
   "cell_type": "code",
   "execution_count": 2,
   "metadata": {},
   "outputs": [
    {
     "name": "stdout",
     "output_type": "stream",
     "text": [
      "b'5552748b5aeb500f57b3d1f4a56e4e9789198918c663e712314ea999026eb896'\n"
     ]
    }
   ],
   "source": [
    "# A commitment is a piece of information that bind me to some value without revealing it\n",
    "# It is usually done with a one way function, or hash\n",
    "commitment = hashlib.sha256(bytes(78)).digest()\n",
    "print(hexlify(commitment))"
   ]
  },
  {
   "cell_type": "code",
   "execution_count": 3,
   "metadata": {},
   "outputs": [
    {
     "name": "stdout",
     "output_type": "stream",
     "text": [
      "78\n"
     ]
    }
   ],
   "source": [
    "# Now I can give the commitment to someone else and if I reveal the message later he can hash it again\n",
    "# and verify that the hash is the same, meaning that I didn't change my mind\n",
    "\n",
    "# But there's an issue with this naive commitment: if I know that the commited value is in a limited set,\n",
    "# I can hash all the possible value until I find the right one.\n",
    "\n",
    "# For example, if I know that the commitment is an int between 0 and 100, it is very easy to find \n",
    "for i in range(0, 200):\n",
    "    if hashlib.sha256(bytes(i)).digest() == commitment:\n",
    "        print(i)"
   ]
  },
  {
   "cell_type": "code",
   "execution_count": 4,
   "metadata": {},
   "outputs": [
    {
     "name": "stdout",
     "output_type": "stream",
     "text": [
      "b'9dd8499cdf53b0c88e9952097aec2bc7f3786c78861fbcc62f05ed9cb8dedca2'\n"
     ]
    }
   ],
   "source": [
    "# To avoid that problem, I can add another piece of random bytes to the value commited, so that you can't \n",
    "# easily find out but still verify if I give you the random bytes later\n",
    "commitment = hashlib.sha256(bytes(2) + b'coucou').digest()\n",
    "print(hexlify(commitment))"
   ]
  },
  {
   "cell_type": "code",
   "execution_count": 5,
   "metadata": {},
   "outputs": [
    {
     "name": "stdout",
     "output_type": "stream",
     "text": [
      "4\n"
     ]
    }
   ],
   "source": [
    "# This kind of commitment is not homomorphic, meaning that H(A) + H(B) != H(A+B)\n",
    "# We can use modular arithmetic to achieve this.\n",
    "# In this very simple example, I provide a commitment that have been computed with a generator g to the power \n",
    "# of the value I need to commit\n",
    "# This is secured by the discrete log problem, meaning that given C, g, and N it is hard to find m\n",
    "# Of course we need to use much larger values to be secure\n",
    "N = 7\n",
    "g = 3 # 3 is a generator for the group of integers mod N\n",
    "m = 100\n",
    "C = g**m % N\n",
    "print(C)"
   ]
  },
  {
   "cell_type": "code",
   "execution_count": 6,
   "metadata": {},
   "outputs": [
    {
     "name": "stdout",
     "output_type": "stream",
     "text": [
      "322110950457507081897788206103513295438817201250625\n"
     ]
    }
   ],
   "source": [
    "# Now we have the same semantic security problem, meaning that the same m would always produce the same commitment\n",
    "# We solve this by adding a second generator, h, to the power of some random value, and multiply our commitment\n",
    "h = 5 # h is public\n",
    "r = int.from_bytes(urandom(1), 'little') % N # r is secret and revealed only when I open the commitment\n",
    "C = (g**m * h**r)\n",
    "print(C)"
   ]
  },
  {
   "cell_type": "code",
   "execution_count": 7,
   "metadata": {},
   "outputs": [],
   "source": [
    "# Now the interesting part: we can use the homomorphism of Pedersen Commitment to create commitments that can add up\n",
    "# For example, imagine that Alice first commit to some value A\n",
    "A = 23\n",
    "r_A = int.from_bytes(urandom(1), 'little') % N\n",
    "C_A = (g**A * h**r_A)\n",
    "\n",
    "# She sends this first commitment to Bob, and some time later commit to another value B\n",
    "B = 32\n",
    "r_B = int.from_bytes(urandom(1), 'little') % N\n",
    "C_B = (g**B * h**r_B)\n",
    "\n",
    "# Bob now has 2 commitments to some values, and also a commitment to the sum of A and B\n",
    "C_AB = C_A * C_B\n",
    "assert C_AB == g**(A+B) * h**(r_A+r_B)\n",
    "\n",
    "# Bob can now verify that this third commitment is really a commitment to the sum of A and B\n",
    "# without ever knowing any value commited\n",
    "\n",
    "# Another interesting consequence is that I can verify that the sum of some values is equal to some other\n",
    "# This obviously will help when we need to prove that no bitcoins were created in a transaction\n",
    "C = 40\n",
    "r_C = int.from_bytes(urandom(1), 'little') % N\n",
    "C_C = (g**C * h**r_C)\n",
    "\n",
    "D = 15\n",
    "r_D = r_A + r_B - r_C\n",
    "C_D = (g**D * h**r_D)\n",
    "\n",
    "C_CD = C_C * C_D\n",
    "assert C_AB - C_CD == 0"
   ]
  },
  {
   "cell_type": "code",
   "execution_count": 8,
   "metadata": {},
   "outputs": [],
   "source": [
    "# Another interesting property is that the commitment to the sum would work even with different A and B\n",
    "# as long as A' + B' = AB\n",
    "C_AB_prime = g**((A-3)+(B+3)) * h**(r_A+r_B)\n",
    "assert C_AB == C_AB_prime\n",
    "\n",
    "# And the same with the random value\n",
    "C_AB_prime = g**((A)+(B)) * h**((r_A-2)+(r_B+2))\n",
    "assert C_AB == C_AB_prime"
   ]
  },
  {
   "cell_type": "code",
   "execution_count": 9,
   "metadata": {},
   "outputs": [
    {
     "name": "stdout",
     "output_type": "stream",
     "text": [
      "S256Point(27d615cd7789eac376bf4875f0c22e64839b38408eebfb01964cc47fc959c9b1, bcf2ee4a5e1749df08203337c12619a77871cda46679e8f99e26ee7919c165c6)\n"
     ]
    }
   ],
   "source": [
    "# We can produce the same commitment with ECC\n",
    "G = ecc.G # we use the generator used in Bitcoin\n",
    "m = int.from_bytes(b'This is a commitment to some value', 'little')\n",
    "C_A = m * G\n",
    "print(C_A)"
   ]
  },
  {
   "cell_type": "code",
   "execution_count": 10,
   "metadata": {},
   "outputs": [
    {
     "name": "stdout",
     "output_type": "stream",
     "text": [
      "H is 0250929b74c1a04954b78b4b6035e97a5e078a5a0f28ec96d547bfee9ace803ac0\n"
     ]
    }
   ],
   "source": [
    "# We still need to find another generator point H\n",
    "# in CT, they chosed to hash the serialization of G\n",
    "to_hash = G.sec(False)\n",
    "H_x = hashlib.sha256(to_hash).hexdigest()\n",
    "H_x = int(H_x, 16)\n",
    "\n",
    "# We then need to find the y coordinate\n",
    "H_y = pow(H_x**3 + 7, (ecc.P+1)//4, ecc.P)\n",
    "\n",
    "H = ecc.S256Point(H_x, H_y).negate()\n",
    "print(f'H is {H.sec().hex()}')"
   ]
  },
  {
   "cell_type": "code",
   "execution_count": 11,
   "metadata": {},
   "outputs": [
    {
     "name": "stdout",
     "output_type": "stream",
     "text": [
      "S256Point(68f8309e17be67198d105f58a78993bbd071a2077b7f0e3c1a30fd473a0b87b1, 1fc4ffb9a633ebc7dce0778e5f291983adb413220f93a8b0f3a8c94eae97e53b)\n"
     ]
    }
   ],
   "source": [
    "# Now we can construct a Pedersen Commitment using x as a blinding factor and a as the amount we're blinding\n",
    "# let's choose a random blinding factor\n",
    "x = int.from_bytes(urandom(32), 'little')\n",
    "\n",
    "# Let's say that we want to hide an amount of 1,000,000 satoshis\n",
    "a = 1_000_000\n",
    "\n",
    "# Now we can compute the commitment with xG + aH\n",
    "C = x * G + a * H\n",
    "print(C)"
   ]
  },
  {
   "cell_type": "code",
   "execution_count": 12,
   "metadata": {},
   "outputs": [],
   "source": [
    "# Now we prove that our commitments work: we'll generate 2 more whose amounts add up to the first one\n",
    "b = 500_000\n",
    "c = 500_000\n",
    "\n",
    "y = int.from_bytes(urandom(32), 'little')\n",
    "z = x - y # we need the sum of the blinding factors to be equal to 0 too\n",
    "\n",
    "C2 = y * G + b * H\n",
    "C3 = z * G + c * H\n",
    "\n",
    "assert C == C2 + C3"
   ]
  },
  {
   "cell_type": "code",
   "execution_count": 14,
   "metadata": {},
   "outputs": [
    {
     "name": "stdout",
     "output_type": "stream",
     "text": [
      "00000000000011110100001001000000\n",
      "00000000000001111010000100100000\n",
      "00000000000001111010000100100000\n"
     ]
    }
   ],
   "source": [
    "# But we could cheat by overflowing the 4B int to make a valid commitment that would create bitcoins!\n",
    "# To prevent this, we can add another proof that the value commited is inside some range.\n",
    "# As we're working with 4B, we will commit to a value in the range 0 - 2**32 - 1\n",
    "\n",
    "# First, we need a binary representation of each value\n",
    "a_bin = format(a, '032b')\n",
    "b_bin = format(b, '032b')\n",
    "c_bin = format(c, '032b')\n",
    "\n",
    "# We'll use a specific construct, Borromean Ring Signatures, to create a proof that our value is inside this range\n",
    "# without revealing the value\n",
    "# The point of BRS is that I can link many fake signatures with only one valid and verify that there's one and\n",
    "# only one valid signature, but no one knows which one\n",
    "# I can also link as many of those ring signatures together that I want, and verify all of them\n",
    "\n",
    "# Here we have 32 bits, each bit can either be \"0\" or \"1\"\n",
    "print(a_bin)\n",
    "print(b_bin)\n",
    "print(c_bin)\n"
   ]
  },
  {
   "cell_type": "code",
   "execution_count": 15,
   "metadata": {},
   "outputs": [
    {
     "name": "stdout",
     "output_type": "stream",
     "text": [
      "00000101111101011110000100000000\n"
     ]
    }
   ],
   "source": []
  },
  {
   "cell_type": "code",
   "execution_count": null,
   "metadata": {},
   "outputs": [],
   "source": []
  }
 ],
 "metadata": {
  "kernelspec": {
   "display_name": "Python 3",
   "language": "python",
   "name": "python3"
  },
  "language_info": {
   "codemirror_mode": {
    "name": "ipython",
    "version": 3
   },
   "file_extension": ".py",
   "mimetype": "text/x-python",
   "name": "python",
   "nbconvert_exporter": "python",
   "pygments_lexer": "ipython3",
   "version": "3.6.9"
  }
 },
 "nbformat": 4,
 "nbformat_minor": 4
}
