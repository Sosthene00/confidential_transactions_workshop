{
 "cells": [
  {
   "cell_type": "code",
   "execution_count": 2,
   "metadata": {},
   "outputs": [],
   "source": [
    "import ecc\n",
    "import util\n",
    "from os import urandom"
   ]
  },
  {
   "cell_type": "code",
   "execution_count": 7,
   "metadata": {},
   "outputs": [
    {
     "name": "stdout",
     "output_type": "stream",
     "text": [
      "03503e11a7d45220522a276cf1729f0f9dc042ac98bfcd6209065b3cbde76a1bfe\n",
      "02dd2b1c960cbbcaac0eec0339b189e4a3a730efa7b4522b261b03fe61ab47e3c1\n"
     ]
    }
   ],
   "source": [
    "Alice = ecc.PrivateKey(int.from_bytes(urandom(32), 'little'))\n",
    "Bob = ecc.PrivateKey(int.from_bytes(urandom(32), 'little'))\n",
    "\n",
    "print(Alice.point.sec().hex())\n",
    "print(Bob.point.sec().hex())"
   ]
  },
  {
   "cell_type": "code",
   "execution_count": 8,
   "metadata": {},
   "outputs": [
    {
     "name": "stdout",
     "output_type": "stream",
     "text": [
      "S256Point(41c414e0ed798550f45dd8f30233263d024a0e257d825b4d022b73ca7f98ec06, a74f3ca7c2fd923e951c2d442c5c6efaee0f8499d5449680da85fc3565337ac0)\n"
     ]
    }
   ],
   "source": [
    "# If Alice wants to create a new key that only her and Bob can know about in a non interactive way\n",
    "Sa = Alice.secret * Bob.point\n",
    "print(Sa)"
   ]
  },
  {
   "cell_type": "code",
   "execution_count": 9,
   "metadata": {},
   "outputs": [
    {
     "name": "stdout",
     "output_type": "stream",
     "text": [
      "True\n"
     ]
    }
   ],
   "source": [
    "# Bob can generate exactly the same key on his side with Alice's pubkey\n",
    "Sb = Bob.secret * Alice.point\n",
    "print(Sa == Sb)"
   ]
  },
  {
   "cell_type": "code",
   "execution_count": null,
   "metadata": {},
   "outputs": [],
   "source": []
  }
 ],
 "metadata": {
  "kernelspec": {
   "display_name": "Python 3",
   "language": "python",
   "name": "python3"
  },
  "language_info": {
   "codemirror_mode": {
    "name": "ipython",
    "version": 3
   },
   "file_extension": ".py",
   "mimetype": "text/x-python",
   "name": "python",
   "nbconvert_exporter": "python",
   "pygments_lexer": "ipython3",
   "version": "3.6.9"
  }
 },
 "nbformat": 4,
 "nbformat_minor": 4
}
