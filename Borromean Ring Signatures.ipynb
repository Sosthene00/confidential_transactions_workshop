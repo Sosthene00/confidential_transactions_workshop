{
 "cells": [
  {
   "cell_type": "code",
   "execution_count": null,
   "metadata": {},
   "outputs": [],
   "source": [
    "from fastecdsa.curve import secp256k1\n",
    "import fastecdsa.keys as keys\n",
    "import fastecdsa.point as Point\n",
    "import ecc\n",
    "import util\n",
    "from hashlib import sha256\n",
    "from os import urandom\n",
    "# Borromean signatures\n",
    "# Pedersen Commitments"
   ]
  },
  {
   "cell_type": "code",
   "execution_count": null,
   "metadata": {},
   "outputs": [],
   "source": [
    "# Borromean Signatures\n",
    "## First we have a set of participants, each with his own key pair\n",
    "participants = {'A': 0, 'B': 0, 'C': 0, 'D': 0}\n",
    "\n",
    "for p in participants:\n",
    "    participants[p] = {'Keys': ecc.PrivateKey(int.from_bytes(urandom(32), 'little'))}"
   ]
  },
  {
   "cell_type": "code",
   "execution_count": null,
   "metadata": {},
   "outputs": [],
   "source": [
    "## Now let's say one of the participant, B, want to make a signature\n",
    "## First, he needs to choose a new nonce key pair\n",
    "participants['B'].update({'Nonce': ecc.PrivateKey(int.from_bytes(urandom(32), 'little'))})\n",
    "## Then we need to create a message hash for the next participant. \n",
    "## This contains the message itself (here the pubkey we commit to), the public nonce K and an index\n",
    "def create_hash_message(K, m, n):\n",
    "    \"\"\"generate a hash of the nonce K, the message m and some index, \n",
    "    here the letter of the participant\n",
    "    \"\"\"\n",
    "    if isinstance(K, bytes) and isinstance(m, bytes) and isinstance(n, bytes):\n",
    "        to_hash = K + m + n\n",
    "        return sha256(to_hash).digest()\n",
    "    else:\n",
    "        raise TypeError('K, m and n need to be bytes')\n",
    "\n",
    "K_B = participants['B']['Nonce'].point\n",
    "print(f'K_B is {K_B.sec().hex()}')\n",
    "P_B = participants['B']['Keys'].point\n",
    "m = P_B.sec()\n",
    "print(f'm is {m.hex()}')\n",
    "e_C = create_hash_message(K_B.sec(), m, b'C')\n",
    "print(f'e_C is {e_C.hex()}')"
   ]
  },
  {
   "cell_type": "code",
   "execution_count": null,
   "metadata": {},
   "outputs": [],
   "source": [
    "## Then we choose a random value for C, it will be its \"signature\" (but it isn't a signature obviously)\n",
    "def generate_random_sig():\n",
    "    return int.from_bytes(urandom(32), 'little')\n",
    "s_C = generate_random_sig()\n",
    "## With this s, the hashed message e and C pubkey, we can compute a value for C's K\n",
    "def compute_K(s, G, e, P):\n",
    "    if isinstance(P, ecc.S256Point) == False:\n",
    "        raise TypeError('P is not a valid S256Point')\n",
    "    if isinstance(s, int) and isinstance(e, int):\n",
    "        return s * G - e * P\n",
    "    else:\n",
    "        raise TypeError('s and e must be int')\n",
    "\n",
    "P_C = participants['C']['Keys'].point\n",
    "e = int.from_bytes(e_C, 'little')\n",
    "K_C = compute_K(s_C, ecc.G, e, P_C)\n",
    "print(f'K_C is {K_C.sec().hex()}')"
   ]
  },
  {
   "cell_type": "code",
   "execution_count": null,
   "metadata": {},
   "outputs": [],
   "source": [
    "## we can now compute e, the hash of the message, for the next participant\n",
    "e_D = create_hash_message(K_C.sec(), m, b'D')\n",
    "## And repeat the same operations, first choose a random signature S\n",
    "s_D = generate_random_sig()\n",
    "\n",
    "P_D = participants['D']['Keys'].point\n",
    "e = int.from_bytes(e_D, 'little')\n",
    "K_D = compute_K(s_D, ecc.G, e, P_D)\n",
    "print(f'K_D is {K_D.sec().hex()}')"
   ]
  },
  {
   "cell_type": "code",
   "execution_count": null,
   "metadata": {},
   "outputs": [],
   "source": [
    "e_A = create_hash_message(K_D.sec(), m, b'A')\n",
    "\n",
    "s_A = generate_random_sig()\n",
    "\n",
    "P_A = participants['A']['Keys'].point\n",
    "\n",
    "e = int.from_bytes(e_A, 'little')\n",
    "K_A = compute_K(s_A, ecc.G, e, P_A)\n",
    "print(f'K_A is {K_A.sec().hex()}')"
   ]
  },
  {
   "cell_type": "code",
   "execution_count": null,
   "metadata": {},
   "outputs": [],
   "source": [
    "## Back to the signer B, we calculate our own hash e\n",
    "e_B = create_hash_message(K_A.sec(), m, b'B')\n",
    "\n",
    "## Now we make a real signature using the nonce we created in the first step\n",
    "e = int.from_bytes(e_B, 'little')\n",
    "x = participants['B']['Keys'].secret # B private key\n",
    "k = participants['B']['Nonce'].secret # B private key nonce\n",
    "print(type(x))\n",
    "\n",
    "## We need K_B == s_B * G - e * P_B\n",
    "## we can arrange the equation to look like s_B == e * x + k\n",
    "s_B = (e * x + k)\n",
    "print(len(hex(s_B)) // 2)\n",
    "print(f'K_B is {K_B.sec().hex()}')\n",
    "assert K_B == compute_K(s_B, ecc.G, e, P_B)\n",
    "print(s_B.to_bytes(65, 'little').hex())"
   ]
  },
  {
   "cell_type": "code",
   "execution_count": null,
   "metadata": {},
   "outputs": [],
   "source": [
    "## We then publish a set containing one e value and all the signatures s values\n",
    "## the whole set to verify is then equal to the number of participants + 1, each value is of 32B\n",
    "rs = {'e_B': e_B, 's_D': s_D, 's_A': s_A, 's_B': s_B, 's_C': s_C}\n",
    "e = int.from_bytes(rs['e_B'], 'little')\n",
    "## To verify the signature we start from the given e value, compute all the e value from here until \n",
    "## we circle back to our first hash. If we got the same hash e, the signature is valid\n",
    "vK_B = compute_K(rs['s_B'], ecc.G, e, P_B)\n",
    "print(f'vK_B : {vK_B.sec().hex()}')\n",
    "assert K_B == vK_B\n",
    "\n",
    "e_C = create_hash_message(vK_B.sec(), m, b'C')\n",
    "vK_C = compute_K(rs['s_C'], ecc.G, e, P_C)\n",
    "print(f'vK_C : {vK_C.sec().hex()}')\n",
    "assert K_C == vK_C\n",
    "\n",
    "e_D = create_hash_message(vK_C, m, b'D')\n",
    "vK_D = compute_K(rs['s_D'], ecc.G, e, P_D)\n",
    "print(f'vK_D : {vK_D.sec().hex()}')\n",
    "assert K_D == vK_D\n",
    "\n",
    "e_A = create_hash_message(vK_D, m, b'A')\n",
    "vK_A = compute_K(rs['s_A'], ecc.G, e, P_A)\n",
    "print(f'vK_A : {vK_A.sec().hex()}')\n",
    "assert K_A == vK_A\n",
    "\n",
    "#res = sha256(vK_C.sec() + m + b'D').digest()\n",
    "#assert res == e"
   ]
  },
  {
   "cell_type": "code",
   "execution_count": null,
   "metadata": {},
   "outputs": [],
   "source": []
  }
 ],
 "metadata": {
  "kernelspec": {
   "display_name": "Python 3",
   "language": "python",
   "name": "python3"
  },
  "language_info": {
   "codemirror_mode": {
    "name": "ipython",
    "version": 3
   },
   "file_extension": ".py",
   "mimetype": "text/x-python",
   "name": "python",
   "nbconvert_exporter": "python",
   "pygments_lexer": "ipython3",
   "version": "3.6.9"
  }
 },
 "nbformat": 4,
 "nbformat_minor": 4
}
